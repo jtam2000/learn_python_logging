{
 "cells": [
  {
   "cell_type": "code",
   "execution_count": 1,
   "metadata": {},
   "outputs": [],
   "source": [
    "import logging\n",
    "import logging.config"
   ]
  },
  {
   "cell_type": "code",
   "execution_count": 2,
   "metadata": {},
   "outputs": [],
   "source": [
    "logging.config.fileConfig('logging.conf')"
   ]
  },
  {
   "cell_type": "code",
   "execution_count": 3,
   "metadata": {
    "scrolled": true
   },
   "outputs": [
    {
     "name": "stdout",
     "output_type": "stream",
     "text": [
      "\r\n",
      "#\r\n",
      "#  Catelog of all Loggers, Handlers and Formatters\r\n",
      "#\r\n",
      "\r\n",
      "# specify all the loggers for this configuration\r\n",
      "[loggers]\r\n",
      "keys=root,jasonlog\r\n",
      "\r\n",
      "[handlers]\r\n",
      "keys=ConsoleHandler,FileHandler,RotatingFileHandler\r\n",
      "# TimedRotatingFileHandler\r\n",
      "\r\n",
      "[formatters]\r\n",
      "keys=simpleFormatter\r\n",
      "\r\n",
      "\r\n",
      "#\r\n",
      "#  LOGGER config\r\n",
      "#\r\n",
      "[logger_root]\r\n",
      "level=DEBUG\r\n",
      "handlers=ConsoleHandler\r\n",
      "\r\n",
      "[logger_jasonlog]\r\n",
      "level=DEBUG\r\n",
      "handlers=RotatingFileHandler\r\n",
      "qualname=jasonlog\r\n",
      "propagate=0\r\n",
      "\r\n",
      "\r\n",
      "#\r\n",
      "# HANDLER config\r\n",
      "#\r\n",
      "[handler_ConsoleHandler]\r\n",
      "class=StreamHandler\r\n",
      "level=DEBUG\r\n",
      "formatter=simpleFormatter\r\n",
      "args=(sys.stdout,)\r\n",
      "\r\n",
      "[handler_FileHandler]\r\n",
      "class=FileHandler\r\n",
      "level=DEBUG\r\n",
      "formatter=simpleFormatter\r\n",
      "args=(\"jasonlog.txt\",)\r\n",
      "\r\n",
      "[handler_RotatingFileHandler]\r\n",
      "class=handlers.RotatingFileHandler\r\n",
      "level=DEBUG\r\n",
      "formatter=simpleFormatter\r\n",
      "args=(\"jasonlog.txt\", \"a\", 1000, 3)\r\n",
      "# arg signature:\r\n",
      "# class logging.handlers.\r\n",
      "#RotatingFileHandler(filename, mode='a', maxBytes=0, backupCount=0, encoding=None, delay=False)\r\n",
      "\r\n",
      "\r\n",
      "\r\n",
      "[handler_TimedRotatingFileHandler]\r\n",
      "class=handlers.TimedRotatingFileHandler\r\n",
      "level=DEBUG\r\n",
      "formatter=simpleFormatter\r\n",
      "args=(\"jasonlog.txt\", \"h\",1,3)\r\n",
      "# args signature:\r\n",
      "#filename, when='h', interval=1, backupCount=0, encoding=None, delay=False, utc=False, atTime=None\r\n",
      "\r\n",
      "#\r\n",
      "# FORMATTER\r\n",
      "#\r\n",
      "[formatter_simpleFormatter]\r\n",
      "format=%(asctime)s - %(name)s - %(levelname)s - %(message)s\r\n",
      "datefmt="
     ]
    }
   ],
   "source": [
    "!cat logging.conf"
   ]
  },
  {
   "cell_type": "code",
   "execution_count": 4,
   "metadata": {},
   "outputs": [],
   "source": [
    "# create 2 logger, one goes to console, one goes to file\n",
    "file_logger = logging.getLogger('jasonlog')  #this is configured to go to rotating file handler (keep 3)\n",
    "console_logger = logging.getLogger(\"root\")  # this configure to go to console"
   ]
  },
  {
   "cell_type": "code",
   "execution_count": 13,
   "metadata": {},
   "outputs": [],
   "source": [
    "# \n",
    "file_logger.debug('debug message')\n",
    "file_logger.info('info message')\n",
    "file_logger.warning('warn message')\n",
    "file_logger.error('error message')\n",
    "file_logger.critical('critical message')"
   ]
  },
  {
   "cell_type": "code",
   "execution_count": 6,
   "metadata": {},
   "outputs": [
    {
     "name": "stdout",
     "output_type": "stream",
     "text": [
      "2020-02-05 17:46:29,344 - root - DEBUG - debug message\n",
      "2020-02-05 17:46:29,346 - root - INFO - info message\n",
      "2020-02-05 17:46:29,348 - root - WARNING - warn message\n",
      "2020-02-05 17:46:29,349 - root - ERROR - error message\n",
      "2020-02-05 17:46:29,350 - root - CRITICAL - critical message\n"
     ]
    }
   ],
   "source": [
    "# 'application' code\n",
    "console_logger.debug('debug message')\n",
    "console_logger.info('info message')\n",
    "console_logger.warning('warn message')\n",
    "console_logger.error('error message')\n",
    "console_logger.critical('critical message')"
   ]
  },
  {
   "cell_type": "code",
   "execution_count": 14,
   "metadata": {
    "scrolled": false
   },
   "outputs": [
    {
     "name": "stdout",
     "output_type": "stream",
     "text": [
      "-rw-r--r--  1 jason  staff   784 Feb  5 17:46 jasonlog.txt\r\n",
      "-rw-r--r--  1 jason  staff   957 Feb  5 17:46 jasonlog.txt.1\r\n",
      "-rw-r--r--  1 jason  staff   959 Feb  5 17:34 jasonlog.txt.2\r\n",
      "-rw-r--r--  1 jason  staff  1500 Feb  5 17:31 jasonlog.txt.3\r\n"
     ]
    }
   ],
   "source": [
    "!ls -l jason*"
   ]
  },
  {
   "cell_type": "code",
   "execution_count": 8,
   "metadata": {
    "scrolled": false
   },
   "outputs": [
    {
     "name": "stdout",
     "output_type": "stream",
     "text": [
      "-rw-r--r--  1 jason  staff  541 Feb  5 17:46 jasonlog.txt\r\n"
     ]
    }
   ],
   "source": [
    "!ls -l jasonlog.txt"
   ]
  },
  {
   "cell_type": "code",
   "execution_count": 9,
   "metadata": {
    "scrolled": true
   },
   "outputs": [
    {
     "name": "stdout",
     "output_type": "stream",
     "text": [
      "2020-02-05 17:34:07,152 - jasonlog - INFO - info message\r\n",
      "2020-02-05 17:34:07,154 - jasonlog - WARNING - warn message\r\n",
      "2020-02-05 17:34:07,154 - jasonlog - ERROR - error message\r\n",
      "2020-02-05 17:34:07,154 - jasonlog - CRITICAL - critical message\r\n",
      "2020-02-05 17:46:29,337 - jasonlog - DEBUG - debug message\r\n",
      "2020-02-05 17:46:29,338 - jasonlog - INFO - info message\r\n",
      "2020-02-05 17:46:29,338 - jasonlog - WARNING - warn message\r\n",
      "2020-02-05 17:46:29,338 - jasonlog - ERROR - error message\r\n",
      "2020-02-05 17:46:29,339 - jasonlog - CRITICAL - critical message\r\n"
     ]
    }
   ],
   "source": [
    "!cat jasonlog.txt"
   ]
  }
 ],
 "metadata": {
  "kernelspec": {
   "display_name": "Python 3",
   "language": "python",
   "name": "python3"
  },
  "language_info": {
   "codemirror_mode": {
    "name": "ipython",
    "version": 3
   },
   "file_extension": ".py",
   "mimetype": "text/x-python",
   "name": "python",
   "nbconvert_exporter": "python",
   "pygments_lexer": "ipython3",
   "version": "3.7.6"
  }
 },
 "nbformat": 4,
 "nbformat_minor": 4
}
