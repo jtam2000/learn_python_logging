{
 "cells": [
  {
   "cell_type": "markdown",
   "metadata": {},
   "source": [
    "# *Logging*  is the package name"
   ]
  },
  {
   "cell_type": "code",
   "execution_count": 1,
   "metadata": {},
   "outputs": [],
   "source": [
    "import logging"
   ]
  },
  {
   "cell_type": "markdown",
   "metadata": {},
   "source": [
    "### 4 Criticality Levels: Debug, Info, Warning, Error, Critical\n",
    " Each level has a function call: logger.debug(\"debug messsage\"), logger.error(\"error message\")"
   ]
  },
  {
   "cell_type": "markdown",
   "metadata": {},
   "source": [
    "### set the logging level: loggger.setLevel\n",
    " Each level has a function call: logger.debug(\"debug messsage\"), logger.error(\"error message\")\n",
    " \n",
    " Message with level set higher than the current set level will be displayed"
   ]
  },
  {
   "cell_type": "markdown",
   "metadata": {},
   "source": [
    "### Default level is \"Warning\"\n",
    " Each level has a function call: logger.debug(\"debug messsage\"), logger.error(\"error message\")"
   ]
  },
  {
   "cell_type": "code",
   "execution_count": 7,
   "metadata": {},
   "outputs": [],
   "source": [
    "# Should not create your logger, use the Singleton logger for the entire application\n",
    "#    use basicConfig to configure the message format and the message critical level\n",
    "logging.basicConfig(filename=\"log.txt\", \n",
    "                    format='%(asctime)s - %(name)s - %(levelname)s - %(message)s',\n",
    "                    datefmt='%m/%d/%Y %I:%M:%S %p',\n",
    "                    level=logging.DEBUG)"
   ]
  },
  {
   "cell_type": "code",
   "execution_count": 8,
   "metadata": {
    "scrolled": false
   },
   "outputs": [
    {
     "name": "stdout",
     "output_type": "stream",
     "text": [
      "name of logger: jason\n",
      "current logger criticality level is: 10\n"
     ]
    }
   ],
   "source": [
    "# attributes of logger\n",
    "\n",
    "log = logging.getLogger(\"jason\")\n",
    "print(\"name of logger:\", log.name)\n",
    "print(\"current logger criticality level is:\", log.getEffectiveLevel())"
   ]
  },
  {
   "cell_type": "code",
   "execution_count": 9,
   "metadata": {},
   "outputs": [],
   "source": [
    "log.error(\"THIS IS AN ERROR MESSAGE\")"
   ]
  },
  {
   "cell_type": "code",
   "execution_count": 10,
   "metadata": {},
   "outputs": [],
   "source": [
    "log.critical(\"this is a CRITICAL message\")"
   ]
  },
  {
   "cell_type": "code",
   "execution_count": 11,
   "metadata": {},
   "outputs": [
    {
     "name": "stdout",
     "output_type": "stream",
     "text": [
      "jason:2020-02-05 15:38:41,538:ERROR:THIS IS AN ERROR MESSAGE\r\n",
      "jason:2020-02-05 15:39:01,056:ERROR:THIS IS AN ERROR MESSAGE\r\n",
      "jason:2020-02-05 15:42:47,184:CRITICAL:this is a CRITICAL message\r\n",
      "jason:02/05/2020 03:46:16 PM:ERROR:THIS IS AN ERROR MESSAGE\r\n",
      "jason:02/05/2020 03:46:19 PM:CRITICAL:this is a CRITICAL message\r\n",
      "02/05/2020 03:58:57 PM - jason - ERROR - THIS IS AN ERROR MESSAGE\r\n",
      "02/05/2020 03:58:57 PM - jason - CRITICAL - this is a CRITICAL message\r\n",
      "02/05/2020 03:59:10 PM - jason - ERROR - THIS IS AN ERROR MESSAGE\r\n",
      "02/05/2020 03:59:12 PM - jason - CRITICAL - this is a CRITICAL message\r\n"
     ]
    }
   ],
   "source": [
    "!cat log.txt"
   ]
  },
  {
   "cell_type": "code",
   "execution_count": null,
   "metadata": {},
   "outputs": [],
   "source": []
  },
  {
   "cell_type": "code",
   "execution_count": null,
   "metadata": {},
   "outputs": [],
   "source": []
  }
 ],
 "metadata": {
  "kernelspec": {
   "display_name": "'Python Interactive'",
   "language": "python",
   "name": "e267284d-a0d8-46e0-a3ea-36fb2ef572d7"
  },
  "language_info": {
   "codemirror_mode": {
    "name": "ipython",
    "version": 3
   },
   "file_extension": ".py",
   "mimetype": "text/x-python",
   "name": "python",
   "nbconvert_exporter": "python",
   "pygments_lexer": "ipython3",
   "version": "3.7.4"
  }
 },
 "nbformat": 4,
 "nbformat_minor": 4
}
